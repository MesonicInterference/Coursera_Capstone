{
 "cells": [
  {
   "cell_type": "markdown",
   "metadata": {},
   "source": [
    "# Week 4: Applied Data Science Capstone - Introduction / Business Problem"
   ]
  },
  {
   "cell_type": "markdown",
   "metadata": {},
   "source": [
    "Now that you have been equipped with the skills and the tools to use location data to explore a geographical location, over the course of two weeks, you will have the opportunity to be as creative as you want and come up with an idea to leverage the Foursquare location data to explore or compare neighborhoods or cities of your choice or to come up with a problem that you can use the Foursquare location data to solve. If you cannot think of an idea or a problem, here are some ideas to get you started:\n",
    "\n",
    "In Module 3, we explored New York City and the city of Toronto and segmented and clustered their neighborhoods. Both cities are very diverse and are the financial capitals of their respective countries. One interesting idea would be to compare the neighborhoods of the two cities and determine how similar or dissimilar they are. Is New York City more like Toronto or Paris or some other multicultural city? I will leave it to you to refine this idea.\n",
    "\n",
    "In a city of your choice, if someone is looking to open a restaurant, where would you recommend that they open it? Similarly, if a contractor is trying to start their own business, where would you recommend that they setup their office?\n",
    "These are just a couple of many ideas and problems that can be solved using location data in addition to other datasets. No matter what you decide to do, make sure to provide sufficient justification of why you think what you want to do or solve is important and why would a client or a group of people be interested in your project.\n",
    "\n",
    "Review criteria\n",
    "\n",
    "This capstone project will be graded by your peers. This capstone project is worth 70% of your total grade. The project will be completed over the course of 2 weeks. Week 1 submissions will be worth 30% whereas week 2 submissions will be worth 40% of your total grade.\n",
    "\n",
    "For this week, you will required to submit the following:\n",
    "\n",
    "* A description of the problem and a discussion of the background. (15 marks)\n",
    "* A description of the data and how it will be used to solve the problem. (15 marks)\n",
    "\n",
    "For the second week, the final deliverables of the project will be:\n",
    "\n",
    "* A link to your Notebook on your Github repository, showing your code. (15 marks)\n",
    "* A full report consisting of all of the following components (15 marks):\n",
    "    * Introduction where you discuss the business problem and who would be interested in this project.\n",
    "    * Data where you describe the data that will be used to solve the problem and the source of the data.\n",
    "    * Methodology section which represents the main component of the report where you discuss and describe any exploratory data analysis that you did, any inferential statistical testing that you performed, if any, and what machine learnings were used and why.\n",
    "    * Results section where you discuss the results.\n",
    "    * Discussion section where you discuss any observations you noted and any recommendations you can make based on the results.\n",
    "    * Conclusion section where you conclude the report.\n",
    "* Your choice of a presentation or blogpost. (10 marks)\n",
    "\n",
    "---------------------------------------------------------\n",
    "\n",
    "Clearly define a problem or an idea of your choice, where you would need to leverage the Foursquare location data to solve or execute. Remember that data science problems always target an audience and are meant to help a group of stakeholders solve a problem, so make sure that you explicitly describe your audience and why they would care about your problem.\n",
    "\n",
    "This submission will eventually become your Introduction/Business Problem section in your final report. So I recommend that you push the report (having your Introduction/Business Problem section only for now) to your Github repository and submit a link to it.\n",
    "\n",
    "---------------------------------------------------------"
   ]
  },
  {
   "cell_type": "markdown",
   "metadata": {},
   "source": [
    "<a id='item1'></a>\n",
    "## Introduction\n",
    "Discussion of the business problem and who would be interested in this project."
   ]
  },
  {
   "cell_type": "markdown",
   "metadata": {},
   "source": [
    "For my project, I have decided to tackle the question of determining which Toronto neighborhood would be most suitable for the opening of a new franchise for a restaurant based on the current density of similar places.  Neighborhoods with lower restaurant densities would provide less competition for the new franchise.  This would be of interest to those in charge of a company seeking to expand its operations into the Toronto area."
   ]
  },
  {
   "cell_type": "code",
   "execution_count": null,
   "metadata": {},
   "outputs": [],
   "source": []
  }
 ],
 "metadata": {
  "kernelspec": {
   "display_name": "Python 3",
   "language": "python",
   "name": "python3"
  },
  "language_info": {
   "codemirror_mode": {
    "name": "ipython",
    "version": 3
   },
   "file_extension": ".py",
   "mimetype": "text/x-python",
   "name": "python",
   "nbconvert_exporter": "python",
   "pygments_lexer": "ipython3",
   "version": "3.7.5"
  }
 },
 "nbformat": 4,
 "nbformat_minor": 4
}
